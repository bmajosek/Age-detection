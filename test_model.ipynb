{
 "cells": [
  {
   "cell_type": "code",
   "execution_count": 3,
   "metadata": {},
   "outputs": [],
   "source": [
    "# Imports\n",
    "import os as os\n",
    "import cv2 as cv\n",
    "import numpy as np\n",
    "from matplotlib import pyplot as plt\n",
    "from scipy import ndimage\n",
    "import tensorflow as tf\n",
    "from tensorflow import keras\n",
    "from sklearn.model_selection import train_test_split\n",
    "import matplotlib.pyplot as plt\n",
    "import random\n",
    "from keras.layers import Conv2D, MaxPooling2D, Flatten, Dense, Dropout, BatchNormalization, LeakyReLU\n",
    "from keras.models import Sequential\n",
    "from keras.callbacks import ModelCheckpoint\n",
    "import numpy as np\n",
    "from keras.models import load_model\n",
    "from sklearn.metrics import mean_squared_error, mean_absolute_percentage_error"
   ]
  },
  {
   "cell_type": "markdown",
   "metadata": {},
   "source": [
    "functions to extract age and group by age"
   ]
  },
  {
   "cell_type": "code",
   "execution_count": 1,
   "metadata": {},
   "outputs": [],
   "source": [
    "def extract_age(filename):\n",
    "    return int(filename.split('_')[0].split('\\\\')[-1])"
   ]
  },
  {
   "cell_type": "code",
   "execution_count": 2,
   "metadata": {},
   "outputs": [],
   "source": [
    "def check_which_group_age(age):\n",
    "    if 1 <= age <= 2:\n",
    "        return 0\n",
    "    elif 3 <= age <= 10:\n",
    "        return 1\n",
    "    elif 11 <= age <= 20:\n",
    "        return 2\n",
    "    elif 21 <= age <= 30:\n",
    "        return 3\n",
    "    elif 31 <= age <= 45:\n",
    "        return 4\n",
    "    elif 46 <= age <= 60:\n",
    "        return 5\n",
    "    else:\n",
    "        return 6"
   ]
  },
  {
   "cell_type": "markdown",
   "metadata": {},
   "source": [
    "load images from the path and preprocess them"
   ]
  },
  {
   "cell_type": "code",
   "execution_count": 8,
   "metadata": {},
   "outputs": [],
   "source": [
    "def preprocess_image(filelist, max_images_per_group=50):\n",
    "    images = []\n",
    "    labels = []\n",
    "    group_to_filepaths = {}  # Dictionary to hold file paths for each age group\n",
    "\n",
    "    # Group the file paths by age group\n",
    "    for filepath in filelist:\n",
    "        age = extract_age(filepath)\n",
    "        if age > 80:\n",
    "            age = 80\n",
    "        age_group = check_which_group_age(age)\n",
    "        if age_group not in group_to_filepaths:\n",
    "            group_to_filepaths[age_group] = []\n",
    "        group_to_filepaths[age_group].append(filepath)\n",
    "\n",
    "    # Shuffle and truncate lists of file paths for each age group\n",
    "    for group, paths in group_to_filepaths.items():\n",
    "        random.shuffle(paths)\n",
    "        group_to_filepaths[group] = paths[:max_images_per_group]\n",
    "    \n",
    "    for i in group_to_filepaths.keys():\n",
    "        print(len(group_to_filepaths[i]))\n",
    "    # Process the images\n",
    "    for group, paths in group_to_filepaths.items():\n",
    "        for filepath in paths:\n",
    "            age = extract_age(filepath)\n",
    "            if age > 80:\n",
    "                age = 80\n",
    "            img_org = cv.imread(filepath)\n",
    "\n",
    "            # Convert the image to grayscale\n",
    "            gray = cv.cvtColor(img_org, cv.COLOR_RGB2GRAY)\n",
    "\n",
    "            # Apply Canny edge detection to find edges\n",
    "            edges = cv.Canny(gray, 100, 200)\n",
    "\n",
    "            # Perform dilation to thicken the edges\n",
    "            kernel = np.ones((3, 3), np.uint8)\n",
    "            thick_edges = cv.dilate(edges, kernel, iterations=2)\n",
    "            img_combined = cv.addWeighted(img_org, 0.7, cv.cvtColor(thick_edges, cv.COLOR_GRAY2RGB), 0.3, 0)\n",
    "            img_combined = cv.resize(img_combined, (200, 200)) \n",
    "            img_combined = img_combined.astype(np.float32) / 255.0\n",
    "\n",
    "            images.append(img_combined)\n",
    "            labels.append(age)\n",
    "    \n",
    "    return np.array(images), np.array(labels)\n"
   ]
  },
  {
   "cell_type": "markdown",
   "metadata": {},
   "source": [
    "input here your path to folder with images and amount of photos for each group of age"
   ]
  },
  {
   "cell_type": "code",
   "execution_count": 15,
   "metadata": {},
   "outputs": [
    {
     "name": "stdout",
     "output_type": "stream",
     "text": [
      "400\n",
      "400\n",
      "400\n",
      "400\n",
      "400\n",
      "400\n",
      "400\n",
      "2800 2800\n"
     ]
    }
   ],
   "source": [
    "# Load and preprocess images\n",
    "dirIn = r'C:\\Users\\Bartus\\Desktop\\UTKFace' # change path to your folder\n",
    "all_files = [os.path.join(dirIn, filename) for filename in os.listdir(dirIn)]\n",
    "X, Y = preprocess_image(all_files, 50) # chgange second param if you want more photos for each group\n",
    "print(len(X), len(Y))"
   ]
  },
  {
   "cell_type": "code",
   "execution_count": 16,
   "metadata": {},
   "outputs": [
    {
     "name": "stdout",
     "output_type": "stream",
     "text": [
      "88/88 [==============================] - 6s 71ms/step - loss: 57.8616 - mae: 5.3005\n",
      "88/88 [==============================] - 7s 76ms/step\n",
      "Test Loss (MSE): 57.86164474487305\n",
      "Test MAE: 5.30052375793457\n",
      "Test RMSE: 7.606683474184374\n",
      "Test MAPE: 0.4543184362527442\n"
     ]
    }
   ],
   "source": [
    "def calculate_rmse(y_true, y_pred):\n",
    "    return np.sqrt(mean_squared_error(y_true, y_pred))\n",
    "\n",
    "def calculate_mape(y_true, y_pred):\n",
    "    return mean_absolute_percentage_error(y_true, y_pred)\n",
    "\n",
    "# Load the best saved model\n",
    "best_model = load_model('best_model11.h5')\n",
    "\n",
    "# Evaluate the best model on the test set\n",
    "test_loss, test_mae = best_model.evaluate(X, Y)\n",
    "\n",
    "# Predict using the best model on the test set\n",
    "y_pred = best_model.predict(X)\n",
    "\n",
    "# Calculate additional metrics\n",
    "test_rmse = calculate_rmse(Y, y_pred)\n",
    "test_mape = calculate_mape(Y, y_pred)\n",
    "\n",
    "print(\"Test Loss (MSE):\", test_loss)\n",
    "print(\"Test MAE:\", test_mae)\n",
    "print(\"Test RMSE:\", test_rmse)\n",
    "print(\"Test MAPE:\", test_mape)\n"
   ]
  }
 ],
 "metadata": {
  "kernelspec": {
   "display_name": "Python 3",
   "language": "python",
   "name": "python3"
  },
  "language_info": {
   "codemirror_mode": {
    "name": "ipython",
    "version": 3
   },
   "file_extension": ".py",
   "mimetype": "text/x-python",
   "name": "python",
   "nbconvert_exporter": "python",
   "pygments_lexer": "ipython3",
   "version": "3.10.8"
  }
 },
 "nbformat": 4,
 "nbformat_minor": 2
}
